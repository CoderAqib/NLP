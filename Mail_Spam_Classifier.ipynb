{
 "cells": [
  {
   "cell_type": "markdown",
   "id": "9e1b3131-6675-433c-915f-24d353edc577",
   "metadata": {},
   "source": [
    "### Spam Email Classifier"
   ]
  },
  {
   "cell_type": "code",
   "execution_count": 1,
   "id": "104e5dc8-9af5-4a98-8b9d-5eea1e3ee82f",
   "metadata": {},
   "outputs": [],
   "source": [
    "import numpy as np\n",
    "import pandas as pd\n",
    "from sklearn.model_selection import train_test_split\n",
    "from sklearn.naive_bayes import MultinomialNB\n",
    "from sklearn.tree import DecisionTreeClassifier\n",
    "from sklearn.linear_model import LogisticRegression\n",
    "from sklearn.feature_extraction.text import TfidfVectorizer\n",
    "from sklearn.metrics import accuracy_score, confusion_matrix, classification_report"
   ]
  },
  {
   "cell_type": "code",
   "execution_count": 2,
   "id": "100e0a9c-3f84-443d-a386-ce3ae215a64a",
   "metadata": {},
   "outputs": [],
   "source": [
    "msgs = pd.read_csv(\"emails.csv\")"
   ]
  },
  {
   "cell_type": "code",
   "execution_count": 3,
   "id": "3a21473c-45fd-46ef-9143-149c06ecffe0",
   "metadata": {},
   "outputs": [
    {
     "data": {
      "text/html": [
       "<div>\n",
       "<style scoped>\n",
       "    .dataframe tbody tr th:only-of-type {\n",
       "        vertical-align: middle;\n",
       "    }\n",
       "\n",
       "    .dataframe tbody tr th {\n",
       "        vertical-align: top;\n",
       "    }\n",
       "\n",
       "    .dataframe thead th {\n",
       "        text-align: right;\n",
       "    }\n",
       "</style>\n",
       "<table border=\"1\" class=\"dataframe\">\n",
       "  <thead>\n",
       "    <tr style=\"text-align: right;\">\n",
       "      <th></th>\n",
       "      <th>Category</th>\n",
       "      <th>Message</th>\n",
       "    </tr>\n",
       "  </thead>\n",
       "  <tbody>\n",
       "    <tr>\n",
       "      <th>0</th>\n",
       "      <td>ham</td>\n",
       "      <td>Go until jurong point, crazy.. Available only ...</td>\n",
       "    </tr>\n",
       "    <tr>\n",
       "      <th>1</th>\n",
       "      <td>ham</td>\n",
       "      <td>Ok lar... Joking wif u oni...</td>\n",
       "    </tr>\n",
       "    <tr>\n",
       "      <th>2</th>\n",
       "      <td>spam</td>\n",
       "      <td>Free entry in 2 a wkly comp to win FA Cup fina...</td>\n",
       "    </tr>\n",
       "    <tr>\n",
       "      <th>3</th>\n",
       "      <td>ham</td>\n",
       "      <td>U dun say so early hor... U c already then say...</td>\n",
       "    </tr>\n",
       "    <tr>\n",
       "      <th>4</th>\n",
       "      <td>ham</td>\n",
       "      <td>Nah I don't think he goes to usf, he lives aro...</td>\n",
       "    </tr>\n",
       "  </tbody>\n",
       "</table>\n",
       "</div>"
      ],
      "text/plain": [
       "  Category                                            Message\n",
       "0      ham  Go until jurong point, crazy.. Available only ...\n",
       "1      ham                      Ok lar... Joking wif u oni...\n",
       "2     spam  Free entry in 2 a wkly comp to win FA Cup fina...\n",
       "3      ham  U dun say so early hor... U c already then say...\n",
       "4      ham  Nah I don't think he goes to usf, he lives aro..."
      ]
     },
     "execution_count": 3,
     "metadata": {},
     "output_type": "execute_result"
    }
   ],
   "source": [
    "msgs.head()"
   ]
  },
  {
   "cell_type": "code",
   "execution_count": 4,
   "id": "27875560-7b24-4438-b8e9-9e46d3c8299a",
   "metadata": {},
   "outputs": [
    {
     "name": "stdout",
     "output_type": "stream",
     "text": [
      "<class 'pandas.core.frame.DataFrame'>\n",
      "RangeIndex: 5572 entries, 0 to 5571\n",
      "Data columns (total 2 columns):\n",
      " #   Column    Non-Null Count  Dtype \n",
      "---  ------    --------------  ----- \n",
      " 0   Category  5572 non-null   object\n",
      " 1   Message   5572 non-null   object\n",
      "dtypes: object(2)\n",
      "memory usage: 87.2+ KB\n"
     ]
    }
   ],
   "source": [
    "msgs.info()"
   ]
  },
  {
   "cell_type": "code",
   "execution_count": 5,
   "id": "50ebf6d5-af8d-4aea-986a-bf7867a02176",
   "metadata": {},
   "outputs": [
    {
     "data": {
      "text/html": [
       "<div>\n",
       "<style scoped>\n",
       "    .dataframe tbody tr th:only-of-type {\n",
       "        vertical-align: middle;\n",
       "    }\n",
       "\n",
       "    .dataframe tbody tr th {\n",
       "        vertical-align: top;\n",
       "    }\n",
       "\n",
       "    .dataframe thead th {\n",
       "        text-align: right;\n",
       "    }\n",
       "</style>\n",
       "<table border=\"1\" class=\"dataframe\">\n",
       "  <thead>\n",
       "    <tr style=\"text-align: right;\">\n",
       "      <th></th>\n",
       "      <th>Category</th>\n",
       "      <th>Message</th>\n",
       "    </tr>\n",
       "  </thead>\n",
       "  <tbody>\n",
       "    <tr>\n",
       "      <th>count</th>\n",
       "      <td>5572</td>\n",
       "      <td>5572</td>\n",
       "    </tr>\n",
       "    <tr>\n",
       "      <th>unique</th>\n",
       "      <td>2</td>\n",
       "      <td>5157</td>\n",
       "    </tr>\n",
       "    <tr>\n",
       "      <th>top</th>\n",
       "      <td>ham</td>\n",
       "      <td>Sorry, I'll call later</td>\n",
       "    </tr>\n",
       "    <tr>\n",
       "      <th>freq</th>\n",
       "      <td>4825</td>\n",
       "      <td>30</td>\n",
       "    </tr>\n",
       "  </tbody>\n",
       "</table>\n",
       "</div>"
      ],
      "text/plain": [
       "       Category                 Message\n",
       "count      5572                    5572\n",
       "unique        2                    5157\n",
       "top         ham  Sorry, I'll call later\n",
       "freq       4825                      30"
      ]
     },
     "execution_count": 5,
     "metadata": {},
     "output_type": "execute_result"
    }
   ],
   "source": [
    "msgs.describe()"
   ]
  },
  {
   "cell_type": "code",
   "execution_count": 6,
   "id": "fe4616ac-43f5-44ea-aa1a-e1fc6e19c277",
   "metadata": {},
   "outputs": [
    {
     "data": {
      "text/html": [
       "<div>\n",
       "<style scoped>\n",
       "    .dataframe tbody tr th:only-of-type {\n",
       "        vertical-align: middle;\n",
       "    }\n",
       "\n",
       "    .dataframe tbody tr th {\n",
       "        vertical-align: top;\n",
       "    }\n",
       "\n",
       "    .dataframe thead tr th {\n",
       "        text-align: left;\n",
       "    }\n",
       "\n",
       "    .dataframe thead tr:last-of-type th {\n",
       "        text-align: right;\n",
       "    }\n",
       "</style>\n",
       "<table border=\"1\" class=\"dataframe\">\n",
       "  <thead>\n",
       "    <tr>\n",
       "      <th></th>\n",
       "      <th colspan=\"4\" halign=\"left\">Message</th>\n",
       "    </tr>\n",
       "    <tr>\n",
       "      <th></th>\n",
       "      <th>count</th>\n",
       "      <th>unique</th>\n",
       "      <th>top</th>\n",
       "      <th>freq</th>\n",
       "    </tr>\n",
       "    <tr>\n",
       "      <th>Category</th>\n",
       "      <th></th>\n",
       "      <th></th>\n",
       "      <th></th>\n",
       "      <th></th>\n",
       "    </tr>\n",
       "  </thead>\n",
       "  <tbody>\n",
       "    <tr>\n",
       "      <th>ham</th>\n",
       "      <td>4825</td>\n",
       "      <td>4516</td>\n",
       "      <td>Sorry, I'll call later</td>\n",
       "      <td>30</td>\n",
       "    </tr>\n",
       "    <tr>\n",
       "      <th>spam</th>\n",
       "      <td>747</td>\n",
       "      <td>641</td>\n",
       "      <td>Please call our customer service representativ...</td>\n",
       "      <td>4</td>\n",
       "    </tr>\n",
       "  </tbody>\n",
       "</table>\n",
       "</div>"
      ],
      "text/plain": [
       "         Message                                                            \\\n",
       "           count unique                                                top   \n",
       "Category                                                                     \n",
       "ham         4825   4516                             Sorry, I'll call later   \n",
       "spam         747    641  Please call our customer service representativ...   \n",
       "\n",
       "               \n",
       "         freq  \n",
       "Category       \n",
       "ham        30  \n",
       "spam        4  "
      ]
     },
     "execution_count": 6,
     "metadata": {},
     "output_type": "execute_result"
    }
   ],
   "source": [
    "msgs.groupby('Category').describe()"
   ]
  },
  {
   "cell_type": "code",
   "execution_count": 7,
   "id": "d2ba69d2-07db-452f-8e9e-738f8f981603",
   "metadata": {},
   "outputs": [
    {
     "data": {
      "text/plain": [
       "(5572, 2)"
      ]
     },
     "execution_count": 7,
     "metadata": {},
     "output_type": "execute_result"
    }
   ],
   "source": [
    "msgs.shape"
   ]
  },
  {
   "cell_type": "markdown",
   "id": "91b60748-bfe8-409c-9fb4-d329c01d65fb",
   "metadata": {},
   "source": [
    "### Label Encoding"
   ]
  },
  {
   "cell_type": "code",
   "execution_count": 8,
   "id": "37b56354-e3af-4e82-a38b-224698b30a28",
   "metadata": {},
   "outputs": [],
   "source": [
    "# msgs.loc[msgs['Category'] == 'ham', 'Category',] = 0\n",
    "# msgs.loc[msgs['Category'] == 'spam', 'Category',] = 1\n",
    "from sklearn.preprocessing import LabelEncoder\n",
    "le = LabelEncoder()\n",
    "le.fit(msgs['Category'])\n",
    "y = le.transform(msgs['Category'])"
   ]
  },
  {
   "cell_type": "markdown",
   "id": "dabbf519-314c-4259-b7e4-249ef48c33a7",
   "metadata": {},
   "source": [
    "### 0 for ham, 1 for spam"
   ]
  },
  {
   "cell_type": "markdown",
   "id": "e89ec5fa-ed4c-4d75-bff5-4d0cd4de75d0",
   "metadata": {},
   "source": [
    "### Features(x) and labels(y)"
   ]
  },
  {
   "cell_type": "code",
   "execution_count": 9,
   "id": "ea4b9805-f391-4a82-8b82-fa5e25494ed4",
   "metadata": {},
   "outputs": [],
   "source": [
    "x = msgs['Message']"
   ]
  },
  {
   "cell_type": "code",
   "execution_count": 10,
   "id": "f055d578-6434-4e78-a737-c7979db46581",
   "metadata": {},
   "outputs": [
    {
     "data": {
      "text/plain": [
       "0       Go until jurong point, crazy.. Available only ...\n",
       "1                           Ok lar... Joking wif u oni...\n",
       "2       Free entry in 2 a wkly comp to win FA Cup fina...\n",
       "3       U dun say so early hor... U c already then say...\n",
       "4       Nah I don't think he goes to usf, he lives aro...\n",
       "                              ...                        \n",
       "5567    This is the 2nd time we have tried 2 contact u...\n",
       "5568                 Will ü b going to esplanade fr home?\n",
       "5569    Pity, * was in mood for that. So...any other s...\n",
       "5570    The guy did some bitching but I acted like i'd...\n",
       "5571                           Rofl. Its true to its name\n",
       "Name: Message, Length: 5572, dtype: object"
      ]
     },
     "execution_count": 10,
     "metadata": {},
     "output_type": "execute_result"
    }
   ],
   "source": [
    "x"
   ]
  },
  {
   "cell_type": "code",
   "execution_count": 11,
   "id": "e8e9d385-30a7-4077-8bcf-57c07ddc0e09",
   "metadata": {},
   "outputs": [
    {
     "data": {
      "text/plain": [
       "array([0, 0, 1, ..., 0, 0, 0])"
      ]
     },
     "execution_count": 11,
     "metadata": {},
     "output_type": "execute_result"
    }
   ],
   "source": [
    "y"
   ]
  },
  {
   "cell_type": "markdown",
   "id": "237362e2-e4a8-4ecf-8874-b71ef24a74d0",
   "metadata": {},
   "source": [
    "### plitting into train_test"
   ]
  },
  {
   "cell_type": "code",
   "execution_count": 17,
   "id": "83d16c83-0b8c-49db-80ba-d3eaa051c275",
   "metadata": {},
   "outputs": [],
   "source": [
    "x_train, x_test, y_train, y_test = train_test_split(x,y, test_size=0.3, random_state=3)"
   ]
  },
  {
   "cell_type": "code",
   "execution_count": 18,
   "id": "1782aa8f-a26c-49aa-ab72-24202a834281",
   "metadata": {},
   "outputs": [
    {
     "name": "stdout",
     "output_type": "stream",
     "text": [
      "(5572,)\n",
      "(3900,)\n",
      "(1672,)\n"
     ]
    }
   ],
   "source": [
    "print(x.shape)\n",
    "print(x_train.shape)\n",
    "print(x_test.shape)"
   ]
  },
  {
   "cell_type": "code",
   "execution_count": 19,
   "id": "5945c5df-2d01-4b12-95f7-9eac542811d3",
   "metadata": {},
   "outputs": [
    {
     "name": "stdout",
     "output_type": "stream",
     "text": [
      "(5572,)\n",
      "(3900,)\n",
      "(1672,)\n"
     ]
    }
   ],
   "source": [
    "print(y.shape)\n",
    "print(y_train.shape)\n",
    "print(y_test.shape)"
   ]
  },
  {
   "cell_type": "markdown",
   "id": "1db29e10-cd2f-48a9-bcb0-efe40d4fbb57",
   "metadata": {},
   "source": [
    "### Removing stopwords and punctuations"
   ]
  },
  {
   "cell_type": "code",
   "execution_count": 20,
   "id": "fd556f42-94ff-41a1-b0bc-7cab9c1cbd8a",
   "metadata": {},
   "outputs": [],
   "source": [
    "# create a function for removing punctuation and stopwrods\n",
    "import string\n",
    "from nltk.corpus import stopwords\n",
    "\n",
    "def text_processing(mess):\n",
    "    \"\"\"\n",
    "    1. remove punctuations\n",
    "    2. remove stopwords\n",
    "    3. return list of clean words\n",
    "    \"\"\"\n",
    "    nopunc = [char for char in mess if char not in string.punctuation]\n",
    "    \n",
    "    nopunc = ''.join(nopunc)\n",
    "    \n",
    "    clean_message = [word for word in nopunc.split() if word.lower() not in stopwords.words('english')]\n",
    "    return clean_message"
   ]
  },
  {
   "cell_type": "code",
   "execution_count": 21,
   "id": "9599956a-ab48-48b9-b4f9-ea1d448381e9",
   "metadata": {},
   "outputs": [
    {
     "data": {
      "text/plain": [
       "0       [Go, jurong, point, crazy, Available, bugis, n...\n",
       "1                          [Ok, lar, Joking, wif, u, oni]\n",
       "2       [Free, entry, 2, wkly, comp, win, FA, Cup, fin...\n",
       "3           [U, dun, say, early, hor, U, c, already, say]\n",
       "4       [Nah, dont, think, goes, usf, lives, around, t...\n",
       "                              ...                        \n",
       "5567    [2nd, time, tried, 2, contact, u, U, £750, Pou...\n",
       "5568                   [ü, b, going, esplanade, fr, home]\n",
       "5569                     [Pity, mood, Soany, suggestions]\n",
       "5570    [guy, bitching, acted, like, id, interested, b...\n",
       "5571                                   [Rofl, true, name]\n",
       "Name: Message, Length: 5572, dtype: object"
      ]
     },
     "execution_count": 21,
     "metadata": {},
     "output_type": "execute_result"
    }
   ],
   "source": [
    "msgs['Message'].apply(text_processing)"
   ]
  },
  {
   "cell_type": "markdown",
   "id": "25bd963e-48e9-47cd-a437-528634f41ca7",
   "metadata": {},
   "source": [
    "----------------------------------------------"
   ]
  },
  {
   "cell_type": "markdown",
   "id": "1812ec9b-5672-47c7-8035-0ee093748494",
   "metadata": {},
   "source": [
    "### Text transformation into Vectors"
   ]
  },
  {
   "cell_type": "code",
   "execution_count": 24,
   "id": "77ad5f9c-a35e-489d-90f4-c38cd671fc4c",
   "metadata": {},
   "outputs": [],
   "source": [
    "vectorizer = TfidfVectorizer()"
   ]
  },
  {
   "cell_type": "code",
   "execution_count": 25,
   "id": "48b61c19-cf2e-449e-bebd-9c711274e76e",
   "metadata": {},
   "outputs": [],
   "source": [
    "x_train_features = vectorizer.fit_transform(x_train)\n",
    "x_test_features = vectorizer.transform(x_test)"
   ]
  },
  {
   "cell_type": "code",
   "execution_count": 26,
   "id": "eece031f-f58c-422d-b431-050e1ad71904",
   "metadata": {},
   "outputs": [
    {
     "name": "stdout",
     "output_type": "stream",
     "text": [
      "  (0, 3775)\t0.33483588036026024\n",
      "  (0, 3193)\t0.25574937190375646\n",
      "  (0, 2923)\t0.2562178155770592\n",
      "  (0, 5694)\t0.37649307209075566\n",
      "  (0, 4316)\t0.18286966923588044\n",
      "  (0, 1852)\t0.29988532907982507\n",
      "  (0, 2569)\t0.4688491076477821\n",
      "  (0, 2021)\t0.42022774069926544\n",
      "  (0, 837)\t0.23049528677866618\n",
      "  (0, 1497)\t0.20535614453072223\n",
      "  (1, 4383)\t0.2146606176403117\n",
      "  (1, 4420)\t0.2805841679498683\n",
      "  (1, 3946)\t0.20524824226388863\n",
      "  (1, 7065)\t0.21934258772468185\n",
      "  (1, 6)\t0.2805841679498683\n",
      "  (1, 6360)\t0.13932469195433209\n",
      "  (1, 3711)\t0.17156117804480228\n",
      "  (1, 2116)\t0.15908360317248268\n",
      "  (1, 3795)\t0.13741825116932593\n",
      "  (1, 3457)\t0.10389326687862002\n",
      "  (1, 2707)\t0.10309077905812075\n",
      "  (1, 1192)\t0.26731816994369884\n",
      "  (1, 4001)\t0.16379627994781112\n",
      "  (1, 4550)\t0.11207359058156051\n",
      "  (1, 3655)\t0.2805841679498683\n",
      "  :\t:\n",
      "  (3898, 5837)\t0.2066600421117241\n",
      "  (3898, 2354)\t0.31883726651760114\n",
      "  (3898, 6630)\t0.17778488496740757\n",
      "  (3898, 5971)\t0.2103563154628509\n",
      "  (3898, 4272)\t0.22601328943158244\n",
      "  (3898, 3343)\t0.13363520999013917\n",
      "  (3898, 4473)\t0.15717490643844853\n",
      "  (3898, 4073)\t0.1432123349814056\n",
      "  (3898, 4460)\t0.16394101340870348\n",
      "  (3899, 597)\t0.28302046105759626\n",
      "  (3899, 6040)\t0.28302046105759626\n",
      "  (3899, 133)\t0.2730552019835742\n",
      "  (3899, 6037)\t0.2730552019835742\n",
      "  (3899, 312)\t0.20690896766367226\n",
      "  (3899, 6861)\t0.2322267892245422\n",
      "  (3899, 5331)\t0.42197790480224023\n",
      "  (3899, 6436)\t0.21908133193566\n",
      "  (3899, 4743)\t0.19329403787588406\n",
      "  (3899, 6857)\t0.34212065232935185\n",
      "  (3899, 5769)\t0.19329403787588406\n",
      "  (3899, 2744)\t0.2950172714554162\n",
      "  (3899, 5535)\t0.14940718391115268\n",
      "  (3899, 5981)\t0.16406771625175814\n",
      "  (3899, 2869)\t0.12792625953966688\n",
      "  (3899, 6392)\t0.15318359750184185\n"
     ]
    }
   ],
   "source": [
    "print(x_train_features)"
   ]
  },
  {
   "cell_type": "markdown",
   "id": "f07e0818-0abd-4fc8-b9f5-0e50f846c8b3",
   "metadata": {},
   "source": [
    "### Model training"
   ]
  },
  {
   "cell_type": "code",
   "execution_count": 27,
   "id": "20111734-00a6-438c-bd57-151ab5d425b8",
   "metadata": {},
   "outputs": [],
   "source": [
    "import time"
   ]
  },
  {
   "cell_type": "markdown",
   "id": "9a07bbae-ce1c-4cb2-b22c-d726c81e2d09",
   "metadata": {},
   "source": [
    "##### MultinomialNB Classifier"
   ]
  },
  {
   "cell_type": "code",
   "execution_count": 32,
   "id": "a7d056dc-f2dd-4240-b105-6f687ab0c95f",
   "metadata": {},
   "outputs": [
    {
     "name": "stdout",
     "output_type": "stream",
     "text": [
      "Training time for MultinomialNB: 0.01 seconds\n"
     ]
    }
   ],
   "source": [
    "start_time = time.time() # calculating training time\n",
    "# training model\n",
    "mnb_model = MultinomialNB()\n",
    "mnb_model.fit(x_train_features, y_train)\n",
    "\n",
    "end_time = time.time()\n",
    "training_time_multinomialNB = end_time - start_time\n",
    "print(\"Training time for MultinomialNB: {:.2f} seconds\".format(training_time_multinomialNB))"
   ]
  },
  {
   "cell_type": "markdown",
   "id": "7162cd2b-4e78-4ccb-b4db-0a2b0b883494",
   "metadata": {},
   "source": [
    "##### DecisionTree Classifier"
   ]
  },
  {
   "cell_type": "code",
   "execution_count": 36,
   "id": "b1135976-8946-481b-906a-6f592ee2bedf",
   "metadata": {},
   "outputs": [
    {
     "name": "stdout",
     "output_type": "stream",
     "text": [
      "Training time for Decision Tree: 0.26 seconds\n"
     ]
    }
   ],
   "source": [
    "start_time = time.time()\n",
    "# training model\n",
    "dt_model = DecisionTreeClassifier(max_depth=12)\n",
    "dt_model.fit(x_train_features, y_train)\n",
    "\n",
    "end_time = time.time()\n",
    "training_time_decision_tree = end_time - start_time\n",
    "print(\"Training time for Decision Tree: {:.2f} seconds\".format(training_time_decision_tree))"
   ]
  },
  {
   "cell_type": "markdown",
   "id": "2b1cd51d-1275-4df0-abae-0155b503611d",
   "metadata": {},
   "source": [
    "##### Logistic Regression Classifier"
   ]
  },
  {
   "cell_type": "code",
   "execution_count": 37,
   "id": "981848b3-98b0-40b1-8c3c-b53efa08a804",
   "metadata": {},
   "outputs": [
    {
     "name": "stdout",
     "output_type": "stream",
     "text": [
      "Training time for Logistic Regression: 0.12 seconds\n"
     ]
    }
   ],
   "source": [
    "start_time = time.time()\n",
    "# training model\n",
    "lr_model = LogisticRegression()\n",
    "lr_model.fit(x_train_features, y_train)\n",
    "\n",
    "end_time = time.time()\n",
    "training_time_logistic_regression = end_time - start_time\n",
    "print(\"Training time for Logistic Regression: {:.2f} seconds\".format(training_time_logistic_regression))"
   ]
  },
  {
   "cell_type": "markdown",
   "id": "860e7fa9-a054-4275-909a-6613ed3f36f9",
   "metadata": {},
   "source": [
    "### Predictions on Training Data USING MULTINOMIAL NB"
   ]
  },
  {
   "cell_type": "code",
   "execution_count": 38,
   "id": "37b01856-188b-4697-be52-71722282bf80",
   "metadata": {},
   "outputs": [],
   "source": [
    "mnb_pred_on_train_data = mnb_model.predict(x_train_features)"
   ]
  },
  {
   "cell_type": "code",
   "execution_count": 39,
   "id": "2130a063-4c95-4114-960b-53eb6b69c45a",
   "metadata": {},
   "outputs": [
    {
     "data": {
      "text/plain": [
       "array([0, 0, 0, ..., 0, 0, 1])"
      ]
     },
     "execution_count": 39,
     "metadata": {},
     "output_type": "execute_result"
    }
   ],
   "source": [
    "mnb_pred_on_train_data"
   ]
  },
  {
   "cell_type": "code",
   "execution_count": 40,
   "id": "a9bc6eed-f510-412a-85b2-7fa592575c79",
   "metadata": {},
   "outputs": [
    {
     "name": "stdout",
     "output_type": "stream",
     "text": [
      "Accuracy on training data :  0.97\n"
     ]
    }
   ],
   "source": [
    "print(\"Accuracy on training data : \", round(accuracy_score(y_train, mnb_pred_on_train_data),2))"
   ]
  },
  {
   "cell_type": "code",
   "execution_count": 41,
   "id": "c3397958-0c21-4ddf-8ce1-dc17ce5185c9",
   "metadata": {},
   "outputs": [
    {
     "name": "stdout",
     "output_type": "stream",
     "text": [
      "[[3385    0]\n",
      " [ 116  399]]\n"
     ]
    }
   ],
   "source": [
    "print(confusion_matrix(y_train, mnb_pred_on_train_data))"
   ]
  },
  {
   "cell_type": "markdown",
   "id": "ca0825a2-79eb-4c9f-93a8-079013e456c3",
   "metadata": {},
   "source": [
    "### Predictions on Testing data USING MultinomialNB"
   ]
  },
  {
   "cell_type": "code",
   "execution_count": 45,
   "id": "1ff105ea-4baa-4b8b-bb72-0328360244ec",
   "metadata": {},
   "outputs": [],
   "source": [
    "mnb_pred_on_test_data = mnb_model.predict(x_test_features)"
   ]
  },
  {
   "cell_type": "code",
   "execution_count": 46,
   "id": "59214534-11a6-4779-bab6-3804dc898c63",
   "metadata": {},
   "outputs": [
    {
     "data": {
      "text/plain": [
       "array([1, 0, 1, ..., 0, 0, 0])"
      ]
     },
     "execution_count": 46,
     "metadata": {},
     "output_type": "execute_result"
    }
   ],
   "source": [
    "mnb_pred_on_test_data"
   ]
  },
  {
   "cell_type": "code",
   "execution_count": 47,
   "id": "484f5e2b-c0bc-473d-8e1e-fcd43420afcb",
   "metadata": {},
   "outputs": [
    {
     "name": "stdout",
     "output_type": "stream",
     "text": [
      "Accuracy on testing data :  0.95\n"
     ]
    }
   ],
   "source": [
    "print(\"Accuracy on testing data : \", round(accuracy_score(y_test, mnb_pred_on_test_data),2))"
   ]
  },
  {
   "cell_type": "code",
   "execution_count": 48,
   "id": "4f6d6386-d46f-4fb3-b4e5-53169d08ac8b",
   "metadata": {},
   "outputs": [
    {
     "name": "stdout",
     "output_type": "stream",
     "text": [
      "[[1440    0]\n",
      " [  79  153]]\n"
     ]
    }
   ],
   "source": [
    "print(confusion_matrix(y_test, mnb_pred_on_test_data))"
   ]
  },
  {
   "cell_type": "markdown",
   "id": "632ed237-98d6-4c61-bb23-72942b989ae6",
   "metadata": {},
   "source": [
    "#### So the prediction of MultinomialNB on Training data is 97% and test data is 95%"
   ]
  },
  {
   "cell_type": "markdown",
   "id": "9af29a25-0270-41b6-8c00-3981fada669b",
   "metadata": {},
   "source": [
    "--------------------------"
   ]
  },
  {
   "cell_type": "markdown",
   "id": "fd4c0d74-5d21-4b0a-888f-e3c879815a0c",
   "metadata": {},
   "source": [
    "### Predictions on Training Data USING Decision Tree"
   ]
  },
  {
   "cell_type": "code",
   "execution_count": 49,
   "id": "6281fcd7-ffb1-4725-b664-845637758fd1",
   "metadata": {},
   "outputs": [
    {
     "data": {
      "text/plain": [
       "array([0, 1, 0, ..., 0, 0, 1])"
      ]
     },
     "execution_count": 49,
     "metadata": {},
     "output_type": "execute_result"
    }
   ],
   "source": [
    "dt_pred_on_train_data = dt_model.predict(x_train_features)\n",
    "dt_pred_on_train_data "
   ]
  },
  {
   "cell_type": "code",
   "execution_count": 50,
   "id": "e991dc7b-f45a-46e6-8e17-2a6c26bd10cc",
   "metadata": {},
   "outputs": [
    {
     "name": "stdout",
     "output_type": "stream",
     "text": [
      "Accuracy on training data :  0.98\n"
     ]
    }
   ],
   "source": [
    "print(\"Accuracy on training data : \", round(accuracy_score(y_train, dt_pred_on_train_data),2))"
   ]
  },
  {
   "cell_type": "code",
   "execution_count": 51,
   "id": "7bd40572-4640-42fd-adc3-5cca4c5d37f4",
   "metadata": {},
   "outputs": [
    {
     "name": "stdout",
     "output_type": "stream",
     "text": [
      "[[3380    5]\n",
      " [  58  457]]\n"
     ]
    }
   ],
   "source": [
    "print(confusion_matrix(y_train, dt_pred_on_train_data))"
   ]
  },
  {
   "cell_type": "markdown",
   "id": "195d54f2-5272-4b52-b99b-ef6a90c1cddc",
   "metadata": {},
   "source": [
    "### Predictions on Testing Data USING Decision Tree"
   ]
  },
  {
   "cell_type": "code",
   "execution_count": 54,
   "id": "e05f12b9-b3e0-46a1-a9d6-c37c99d12153",
   "metadata": {},
   "outputs": [
    {
     "data": {
      "text/plain": [
       "array([1, 0, 1, ..., 0, 0, 0])"
      ]
     },
     "execution_count": 54,
     "metadata": {},
     "output_type": "execute_result"
    }
   ],
   "source": [
    "dt_pred_on_test_data = dt_model.predict(x_test_features)\n",
    "dt_pred_on_test_data"
   ]
  },
  {
   "cell_type": "code",
   "execution_count": 55,
   "id": "547e2310-2724-4183-b619-88a8a84c73b5",
   "metadata": {},
   "outputs": [
    {
     "name": "stdout",
     "output_type": "stream",
     "text": [
      "Accuracy on testing data :  0.96\n"
     ]
    }
   ],
   "source": [
    "print(\"Accuracy on testing data : \", round(accuracy_score(y_test, dt_pred_on_test_data),2))"
   ]
  },
  {
   "cell_type": "code",
   "execution_count": 56,
   "id": "b66ca840-09cd-4a0c-8149-a9d7f3e82a8c",
   "metadata": {},
   "outputs": [
    {
     "name": "stdout",
     "output_type": "stream",
     "text": [
      "[[1422   18]\n",
      " [  47  185]]\n"
     ]
    }
   ],
   "source": [
    "print(confusion_matrix(y_test, dt_pred_on_test_data))"
   ]
  },
  {
   "cell_type": "markdown",
   "id": "cf49dab0-40a4-4044-8c51-378f173f8c7d",
   "metadata": {},
   "source": [
    "#### So the prediction of DecisionTree on Training data is 98% and test data is 96% when depth is 12. if we dont specify depth or keep the depth 15 or more then 15 it leads to overfitting"
   ]
  },
  {
   "cell_type": "markdown",
   "id": "247dd3de-91aa-4670-b2ff-24c7f1ff050e",
   "metadata": {},
   "source": [
    "-------------------------------------"
   ]
  },
  {
   "cell_type": "markdown",
   "id": "86029327-2bf5-4c2b-8400-e5b68274e171",
   "metadata": {},
   "source": [
    "### Predictions on Training Data USING Logistic Regression"
   ]
  },
  {
   "cell_type": "code",
   "execution_count": 57,
   "id": "1581ad9a-31dd-4ea1-81c6-831b418e86d1",
   "metadata": {},
   "outputs": [
    {
     "data": {
      "text/plain": [
       "array([0, 0, 0, ..., 0, 0, 1])"
      ]
     },
     "execution_count": 57,
     "metadata": {},
     "output_type": "execute_result"
    }
   ],
   "source": [
    "lr_pred_on_train_data = lr_model.predict(x_train_features)\n",
    "lr_pred_on_train_data "
   ]
  },
  {
   "cell_type": "code",
   "execution_count": 58,
   "id": "3afce652-d1cf-4756-8578-0ebebb05d440",
   "metadata": {},
   "outputs": [
    {
     "name": "stdout",
     "output_type": "stream",
     "text": [
      "Accuracy on training data :  0.97\n"
     ]
    }
   ],
   "source": [
    "print(\"Accuracy on training data : \", round(accuracy_score(y_train, lr_pred_on_train_data),2))"
   ]
  },
  {
   "cell_type": "code",
   "execution_count": 59,
   "id": "c5a3f8d3-e9ac-42b4-8632-e5e5e41fbe14",
   "metadata": {},
   "outputs": [
    {
     "name": "stdout",
     "output_type": "stream",
     "text": [
      "[[3384    1]\n",
      " [ 112  403]]\n"
     ]
    }
   ],
   "source": [
    "print(confusion_matrix(y_train, lr_pred_on_train_data))"
   ]
  },
  {
   "cell_type": "markdown",
   "id": "d62ef305-b5bd-4196-92d9-9f3e64f3ebd1",
   "metadata": {},
   "source": [
    "### Predictions on Testing Data USING Logistic Regression"
   ]
  },
  {
   "cell_type": "code",
   "execution_count": 60,
   "id": "6556a5d0-be74-4693-8f5a-0553a9518cbe",
   "metadata": {},
   "outputs": [
    {
     "data": {
      "text/plain": [
       "array([1, 0, 1, ..., 0, 0, 0])"
      ]
     },
     "execution_count": 60,
     "metadata": {},
     "output_type": "execute_result"
    }
   ],
   "source": [
    "lr_pred_on_test_data = lr_model.predict(x_test_features)\n",
    "lr_pred_on_test_data"
   ]
  },
  {
   "cell_type": "code",
   "execution_count": 61,
   "id": "2a17564b-52d3-4eab-bf77-075fd529170c",
   "metadata": {},
   "outputs": [
    {
     "name": "stdout",
     "output_type": "stream",
     "text": [
      "Accuracy on testing data :  0.97\n"
     ]
    }
   ],
   "source": [
    "print(\"Accuracy on testing data : \", round(accuracy_score(y_test, lr_pred_on_test_data),2))"
   ]
  },
  {
   "cell_type": "code",
   "execution_count": 62,
   "id": "01db66c1-4e1a-4357-b734-aed931483391",
   "metadata": {},
   "outputs": [
    {
     "name": "stdout",
     "output_type": "stream",
     "text": [
      "[[1439    1]\n",
      " [  44  188]]\n"
     ]
    }
   ],
   "source": [
    "print(confusion_matrix(y_test, lr_pred_on_test_data))"
   ]
  },
  {
   "cell_type": "markdown",
   "id": "c93eb6b0-dc9d-4d20-b8c2-ecd57c6fe51c",
   "metadata": {},
   "source": [
    "#### So the prediction of Logistic Regression on Training data is 97% and test data is 97%"
   ]
  },
  {
   "cell_type": "markdown",
   "id": "2c0fd96a-a841-4580-b7c2-f1350ec3a381",
   "metadata": {},
   "source": [
    "----------------------------------------------"
   ]
  },
  {
   "cell_type": "markdown",
   "id": "2502663e-08cf-4581-87af-fb2f63479d02",
   "metadata": {},
   "source": [
    "## Entering two sample messages for testing the model"
   ]
  },
  {
   "cell_type": "code",
   "execution_count": 64,
   "id": "45e8097f-c6eb-49ba-bbfd-c7077349e24b",
   "metadata": {},
   "outputs": [],
   "source": [
    "mail_1 = [\"Congratulations! you have been awarded with scholarship. Kindly meet the director of ehsas scholarships for further details in university tomorrow.\"]\n",
    "mail_2 = [\"Hi John How are you? and Congratulation for winning under 19 championship\"]\n",
    "vector_1= vectorizer.transform(mail_1)\n",
    "vector_2 = vectorizer.transform(mail_2)"
   ]
  },
  {
   "cell_type": "markdown",
   "id": "eb98451c-e78e-4c1c-b995-bffa4d67dfed",
   "metadata": {},
   "source": [
    "#### Testing MultinomialNB"
   ]
  },
  {
   "cell_type": "code",
   "execution_count": 65,
   "id": "e20dae33-97a8-47f2-a1f0-28d50fd15ab5",
   "metadata": {},
   "outputs": [
    {
     "name": "stdout",
     "output_type": "stream",
     "text": [
      "mail_1 is a Ham mail\n",
      "mail_2 is a Ham mail\n"
     ]
    }
   ],
   "source": [
    "pred_1 = mnb_model.predict(vector_1)\n",
    "pred_2 = mnb_model.predict(vector_2)\n",
    "\n",
    "# for pred_1\n",
    "if pred_1 == 0:\n",
    "    print(\"mail_1 is a Ham mail\")\n",
    "if pred_1 == 1:\n",
    "    print(\"mail_1 is a Spam mail\")\n",
    "    \n",
    "# for pred_2\n",
    "if pred_2 == 0:\n",
    "    print(\"mail_2 is a Ham mail\")\n",
    "if pred_2 == 1:\n",
    "    print(\"mail_2 is a Spam mail\")"
   ]
  },
  {
   "cell_type": "markdown",
   "id": "1eee37f7-5364-4516-b9fa-61ff39e6480f",
   "metadata": {},
   "source": [
    "--------------------------------------------------------"
   ]
  },
  {
   "cell_type": "markdown",
   "id": "03a76375-593a-4423-b1b5-33280a67c506",
   "metadata": {},
   "source": [
    "#### Testing Decision Tree"
   ]
  },
  {
   "cell_type": "code",
   "execution_count": 66,
   "id": "c654b858-5003-4953-bb39-92f60ae040c8",
   "metadata": {},
   "outputs": [
    {
     "name": "stdout",
     "output_type": "stream",
     "text": [
      "mail_1 is a Ham mail\n",
      "mail_2 is a Ham mail\n"
     ]
    }
   ],
   "source": [
    "pred_1 = dt_model.predict(vector_1)\n",
    "pred_2 = dt_model.predict(vector_2)\n",
    "\n",
    "# for pred_1\n",
    "if pred_1 == 0:\n",
    "    print(\"mail_1 is a Ham mail\")\n",
    "if pred_1 == 1:\n",
    "    print(\"mail_1 is a Spam mail\")\n",
    "    \n",
    "# for pred_2\n",
    "if pred_2 == 0:\n",
    "    print(\"mail_2 is a Ham mail\")\n",
    "if pred_2 == 1:\n",
    "    print(\"mail_2 is a Spam mail\")"
   ]
  },
  {
   "cell_type": "markdown",
   "id": "fddffb7e-4843-4a1f-b7a4-df6e366fbf5d",
   "metadata": {},
   "source": [
    "-----------------------------------------------------"
   ]
  },
  {
   "cell_type": "markdown",
   "id": "2c500781-af2c-448e-8385-84f9222c2a99",
   "metadata": {},
   "source": [
    "#### Testing Logistic Regression"
   ]
  },
  {
   "cell_type": "code",
   "execution_count": 67,
   "id": "5cbdc587-182c-48b4-8724-deea4844f6a8",
   "metadata": {},
   "outputs": [
    {
     "name": "stdout",
     "output_type": "stream",
     "text": [
      "mail_1 is a Ham mail\n",
      "mail_2 is a Ham mail\n"
     ]
    }
   ],
   "source": [
    "pred_1 = lr_model.predict(vector_1)\n",
    "pred_2 = lr_model.predict(vector_2)\n",
    "\n",
    "# for pred_1\n",
    "if pred_1 == 0:\n",
    "    print(\"mail_1 is a Ham mail\")\n",
    "if pred_1 == 1:\n",
    "    print(\"mail_1 is a Spam mail\")\n",
    "    \n",
    "# for pred_2\n",
    "if pred_2 == 0:\n",
    "    print(\"mail_2 is a Ham mail\")\n",
    "if pred_2 == 1:\n",
    "    print(\"mail_2 is a Spam mail\")"
   ]
  },
  {
   "cell_type": "markdown",
   "id": "985252cb-63fa-487c-8f9c-28955abaeefc",
   "metadata": {},
   "source": [
    "-----------------------------------------------------------------"
   ]
  },
  {
   "cell_type": "markdown",
   "id": "a889dca3-8b6a-40d0-8111-35a9398c970b",
   "metadata": {},
   "source": [
    "# Comparison "
   ]
  },
  {
   "cell_type": "markdown",
   "id": "bdc4be30-730d-4cf0-b9ca-8c9a43098f9b",
   "metadata": {
    "tags": []
   },
   "source": [
    "### Accuracy on training data: \n",
    "#### Multinomial 97%, Decision Tree 98%, logistic regression 97%\n",
    "\n",
    "### Accuracy on testing data: \n",
    "#### Multinomial 95%, Decision Tree 96%, logistic regression 97% \n",
    "\n",
    "### Training time: \n",
    "#### Multinomial 0.01 seconds, Decision Tree 0.26 seconds, logistic regression 0.12 seconds "
   ]
  },
  {
   "cell_type": "code",
   "execution_count": null,
   "id": "913d7445-1527-4066-86da-e040c545154f",
   "metadata": {},
   "outputs": [],
   "source": []
  }
 ],
 "metadata": {
  "kernelspec": {
   "display_name": "Python 3",
   "language": "python",
   "name": "python3"
  },
  "language_info": {
   "codemirror_mode": {
    "name": "ipython",
    "version": 3
   },
   "file_extension": ".py",
   "mimetype": "text/x-python",
   "name": "python",
   "nbconvert_exporter": "python",
   "pygments_lexer": "ipython3",
   "version": "3.10.9"
  }
 },
 "nbformat": 4,
 "nbformat_minor": 5
}
