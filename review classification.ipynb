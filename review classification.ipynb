{
 "cells": [
  {
   "cell_type": "markdown",
   "id": "6be741ca-c1f1-4c0b-9832-7bac949d7cfd",
   "metadata": {},
   "source": [
    "## Review Classifier"
   ]
  },
  {
   "cell_type": "code",
   "execution_count": 1,
   "id": "cb264c07-7b6a-4372-af52-19433da0f40e",
   "metadata": {},
   "outputs": [],
   "source": [
    "import numpy as np\n",
    "import pandas as pd\n",
    "import matplotlib.pyplot as plt\n",
    "import seaborn as sns\n",
    "from sklearn.feature_extraction.text import TfidfVectorizer\n",
    "from sklearn.naive_bayes import MultinomialNB\n",
    "from sklearn.metrics import accuracy_score, classification_report"
   ]
  },
  {
   "cell_type": "code",
   "execution_count": 2,
   "id": "e0d00f60-cbe9-43c0-9c98-1521cafb82a4",
   "metadata": {},
   "outputs": [],
   "source": [
    "reviews = pd.read_csv('yelp.csv')"
   ]
  },
  {
   "cell_type": "code",
   "execution_count": 3,
   "id": "5c3bbeaa-68ec-4128-865c-c421e08adb48",
   "metadata": {},
   "outputs": [
    {
     "data": {
      "text/html": [
       "<div>\n",
       "<style scoped>\n",
       "    .dataframe tbody tr th:only-of-type {\n",
       "        vertical-align: middle;\n",
       "    }\n",
       "\n",
       "    .dataframe tbody tr th {\n",
       "        vertical-align: top;\n",
       "    }\n",
       "\n",
       "    .dataframe thead th {\n",
       "        text-align: right;\n",
       "    }\n",
       "</style>\n",
       "<table border=\"1\" class=\"dataframe\">\n",
       "  <thead>\n",
       "    <tr style=\"text-align: right;\">\n",
       "      <th></th>\n",
       "      <th>business_id</th>\n",
       "      <th>date</th>\n",
       "      <th>review_id</th>\n",
       "      <th>stars</th>\n",
       "      <th>text</th>\n",
       "      <th>type</th>\n",
       "      <th>user_id</th>\n",
       "      <th>cool</th>\n",
       "      <th>useful</th>\n",
       "      <th>funny</th>\n",
       "    </tr>\n",
       "  </thead>\n",
       "  <tbody>\n",
       "    <tr>\n",
       "      <th>0</th>\n",
       "      <td>9yKzy9PApeiPPOUJEtnvkg</td>\n",
       "      <td>2011-01-26</td>\n",
       "      <td>fWKvX83p0-ka4JS3dc6E5A</td>\n",
       "      <td>5</td>\n",
       "      <td>My wife took me here on my birthday for breakf...</td>\n",
       "      <td>review</td>\n",
       "      <td>rLtl8ZkDX5vH5nAx9C3q5Q</td>\n",
       "      <td>2</td>\n",
       "      <td>5</td>\n",
       "      <td>0</td>\n",
       "    </tr>\n",
       "    <tr>\n",
       "      <th>1</th>\n",
       "      <td>ZRJwVLyzEJq1VAihDhYiow</td>\n",
       "      <td>2011-07-27</td>\n",
       "      <td>IjZ33sJrzXqU-0X6U8NwyA</td>\n",
       "      <td>5</td>\n",
       "      <td>I have no idea why some people give bad review...</td>\n",
       "      <td>review</td>\n",
       "      <td>0a2KyEL0d3Yb1V6aivbIuQ</td>\n",
       "      <td>0</td>\n",
       "      <td>0</td>\n",
       "      <td>0</td>\n",
       "    </tr>\n",
       "    <tr>\n",
       "      <th>2</th>\n",
       "      <td>6oRAC4uyJCsJl1X0WZpVSA</td>\n",
       "      <td>2012-06-14</td>\n",
       "      <td>IESLBzqUCLdSzSqm0eCSxQ</td>\n",
       "      <td>4</td>\n",
       "      <td>love the gyro plate. Rice is so good and I als...</td>\n",
       "      <td>review</td>\n",
       "      <td>0hT2KtfLiobPvh6cDC8JQg</td>\n",
       "      <td>0</td>\n",
       "      <td>1</td>\n",
       "      <td>0</td>\n",
       "    </tr>\n",
       "    <tr>\n",
       "      <th>3</th>\n",
       "      <td>_1QQZuf4zZOyFCvXc0o6Vg</td>\n",
       "      <td>2010-05-27</td>\n",
       "      <td>G-WvGaISbqqaMHlNnByodA</td>\n",
       "      <td>5</td>\n",
       "      <td>Rosie, Dakota, and I LOVE Chaparral Dog Park!!...</td>\n",
       "      <td>review</td>\n",
       "      <td>uZetl9T0NcROGOyFfughhg</td>\n",
       "      <td>1</td>\n",
       "      <td>2</td>\n",
       "      <td>0</td>\n",
       "    </tr>\n",
       "    <tr>\n",
       "      <th>4</th>\n",
       "      <td>6ozycU1RpktNG2-1BroVtw</td>\n",
       "      <td>2012-01-05</td>\n",
       "      <td>1uJFq2r5QfJG_6ExMRCaGw</td>\n",
       "      <td>5</td>\n",
       "      <td>General Manager Scott Petello is a good egg!!!...</td>\n",
       "      <td>review</td>\n",
       "      <td>vYmM4KTsC8ZfQBg-j5MWkw</td>\n",
       "      <td>0</td>\n",
       "      <td>0</td>\n",
       "      <td>0</td>\n",
       "    </tr>\n",
       "  </tbody>\n",
       "</table>\n",
       "</div>"
      ],
      "text/plain": [
       "              business_id        date               review_id  stars  \\\n",
       "0  9yKzy9PApeiPPOUJEtnvkg  2011-01-26  fWKvX83p0-ka4JS3dc6E5A      5   \n",
       "1  ZRJwVLyzEJq1VAihDhYiow  2011-07-27  IjZ33sJrzXqU-0X6U8NwyA      5   \n",
       "2  6oRAC4uyJCsJl1X0WZpVSA  2012-06-14  IESLBzqUCLdSzSqm0eCSxQ      4   \n",
       "3  _1QQZuf4zZOyFCvXc0o6Vg  2010-05-27  G-WvGaISbqqaMHlNnByodA      5   \n",
       "4  6ozycU1RpktNG2-1BroVtw  2012-01-05  1uJFq2r5QfJG_6ExMRCaGw      5   \n",
       "\n",
       "                                                text    type  \\\n",
       "0  My wife took me here on my birthday for breakf...  review   \n",
       "1  I have no idea why some people give bad review...  review   \n",
       "2  love the gyro plate. Rice is so good and I als...  review   \n",
       "3  Rosie, Dakota, and I LOVE Chaparral Dog Park!!...  review   \n",
       "4  General Manager Scott Petello is a good egg!!!...  review   \n",
       "\n",
       "                  user_id  cool  useful  funny  \n",
       "0  rLtl8ZkDX5vH5nAx9C3q5Q     2       5      0  \n",
       "1  0a2KyEL0d3Yb1V6aivbIuQ     0       0      0  \n",
       "2  0hT2KtfLiobPvh6cDC8JQg     0       1      0  \n",
       "3  uZetl9T0NcROGOyFfughhg     1       2      0  \n",
       "4  vYmM4KTsC8ZfQBg-j5MWkw     0       0      0  "
      ]
     },
     "execution_count": 3,
     "metadata": {},
     "output_type": "execute_result"
    }
   ],
   "source": [
    "reviews.head()"
   ]
  },
  {
   "cell_type": "markdown",
   "id": "c1ae9db9-715f-4eca-974c-f440f77f37d1",
   "metadata": {},
   "source": [
    "### Exploratory Data Analysis"
   ]
  },
  {
   "cell_type": "code",
   "execution_count": 4,
   "id": "c1e50544-1068-4ec5-b02e-1bd57665478b",
   "metadata": {},
   "outputs": [
    {
     "data": {
      "text/html": [
       "<div>\n",
       "<style scoped>\n",
       "    .dataframe tbody tr th:only-of-type {\n",
       "        vertical-align: middle;\n",
       "    }\n",
       "\n",
       "    .dataframe tbody tr th {\n",
       "        vertical-align: top;\n",
       "    }\n",
       "\n",
       "    .dataframe thead th {\n",
       "        text-align: right;\n",
       "    }\n",
       "</style>\n",
       "<table border=\"1\" class=\"dataframe\">\n",
       "  <thead>\n",
       "    <tr style=\"text-align: right;\">\n",
       "      <th></th>\n",
       "      <th>stars</th>\n",
       "      <th>cool</th>\n",
       "      <th>useful</th>\n",
       "      <th>funny</th>\n",
       "    </tr>\n",
       "  </thead>\n",
       "  <tbody>\n",
       "    <tr>\n",
       "      <th>count</th>\n",
       "      <td>10000.000000</td>\n",
       "      <td>10000.000000</td>\n",
       "      <td>10000.000000</td>\n",
       "      <td>10000.000000</td>\n",
       "    </tr>\n",
       "    <tr>\n",
       "      <th>mean</th>\n",
       "      <td>3.777500</td>\n",
       "      <td>0.876800</td>\n",
       "      <td>1.409300</td>\n",
       "      <td>0.701300</td>\n",
       "    </tr>\n",
       "    <tr>\n",
       "      <th>std</th>\n",
       "      <td>1.214636</td>\n",
       "      <td>2.067861</td>\n",
       "      <td>2.336647</td>\n",
       "      <td>1.907942</td>\n",
       "    </tr>\n",
       "    <tr>\n",
       "      <th>min</th>\n",
       "      <td>1.000000</td>\n",
       "      <td>0.000000</td>\n",
       "      <td>0.000000</td>\n",
       "      <td>0.000000</td>\n",
       "    </tr>\n",
       "    <tr>\n",
       "      <th>25%</th>\n",
       "      <td>3.000000</td>\n",
       "      <td>0.000000</td>\n",
       "      <td>0.000000</td>\n",
       "      <td>0.000000</td>\n",
       "    </tr>\n",
       "    <tr>\n",
       "      <th>50%</th>\n",
       "      <td>4.000000</td>\n",
       "      <td>0.000000</td>\n",
       "      <td>1.000000</td>\n",
       "      <td>0.000000</td>\n",
       "    </tr>\n",
       "    <tr>\n",
       "      <th>75%</th>\n",
       "      <td>5.000000</td>\n",
       "      <td>1.000000</td>\n",
       "      <td>2.000000</td>\n",
       "      <td>1.000000</td>\n",
       "    </tr>\n",
       "    <tr>\n",
       "      <th>max</th>\n",
       "      <td>5.000000</td>\n",
       "      <td>77.000000</td>\n",
       "      <td>76.000000</td>\n",
       "      <td>57.000000</td>\n",
       "    </tr>\n",
       "  </tbody>\n",
       "</table>\n",
       "</div>"
      ],
      "text/plain": [
       "              stars          cool        useful         funny\n",
       "count  10000.000000  10000.000000  10000.000000  10000.000000\n",
       "mean       3.777500      0.876800      1.409300      0.701300\n",
       "std        1.214636      2.067861      2.336647      1.907942\n",
       "min        1.000000      0.000000      0.000000      0.000000\n",
       "25%        3.000000      0.000000      0.000000      0.000000\n",
       "50%        4.000000      0.000000      1.000000      0.000000\n",
       "75%        5.000000      1.000000      2.000000      1.000000\n",
       "max        5.000000     77.000000     76.000000     57.000000"
      ]
     },
     "execution_count": 4,
     "metadata": {},
     "output_type": "execute_result"
    }
   ],
   "source": [
    "reviews.describe()"
   ]
  },
  {
   "cell_type": "code",
   "execution_count": 5,
   "id": "5a77d4d6-7c13-46cd-89e1-93eab15350ed",
   "metadata": {},
   "outputs": [
    {
     "name": "stdout",
     "output_type": "stream",
     "text": [
      "<class 'pandas.core.frame.DataFrame'>\n",
      "RangeIndex: 10000 entries, 0 to 9999\n",
      "Data columns (total 10 columns):\n",
      " #   Column       Non-Null Count  Dtype \n",
      "---  ------       --------------  ----- \n",
      " 0   business_id  10000 non-null  object\n",
      " 1   date         10000 non-null  object\n",
      " 2   review_id    10000 non-null  object\n",
      " 3   stars        10000 non-null  int64 \n",
      " 4   text         10000 non-null  object\n",
      " 5   type         10000 non-null  object\n",
      " 6   user_id      10000 non-null  object\n",
      " 7   cool         10000 non-null  int64 \n",
      " 8   useful       10000 non-null  int64 \n",
      " 9   funny        10000 non-null  int64 \n",
      "dtypes: int64(4), object(6)\n",
      "memory usage: 781.4+ KB\n"
     ]
    }
   ],
   "source": [
    "reviews.info()"
   ]
  },
  {
   "cell_type": "markdown",
   "id": "8ab1cece-09e4-4ab8-ae8a-3fe5f85ca176",
   "metadata": {},
   "source": [
    "### Adding a feature of review text length"
   ]
  },
  {
   "cell_type": "code",
   "execution_count": 6,
   "id": "4f03896d-3b0e-490e-bb15-9d506f910ee2",
   "metadata": {},
   "outputs": [],
   "source": [
    "reviews['text length'] = reviews['text'].apply(len)"
   ]
  },
  {
   "cell_type": "markdown",
   "id": "92a1ee36-aafc-445c-b261-cb1892d73198",
   "metadata": {},
   "source": [
    "### Visualizing the text length and reviews"
   ]
  },
  {
   "cell_type": "code",
   "execution_count": 7,
   "id": "6146994a-5915-4d7a-abda-413d24c74a8f",
   "metadata": {},
   "outputs": [
    {
     "data": {
      "text/plain": [
       "<seaborn.axisgrid.FacetGrid at 0x20c91400940>"
      ]
     },
     "execution_count": 7,
     "metadata": {},
     "output_type": "execute_result"
    },
    {
     "data": {
      "image/png": "[encoded data removed]",
      "text/plain": [
       "<Figure size 1500x300 with 5 Axes>"
      ]
     },
     "metadata": {},
     "output_type": "display_data"
    }
   ],
   "source": [
    "grid = sns.FacetGrid(reviews, col='stars')\n",
    "grid.map(plt.hist, 'text length')"
   ]
  },
  {
   "cell_type": "markdown",
   "id": "cc8934dd-8af0-4bf5-8dee-4e971a75e0c0",
   "metadata": {},
   "source": [
    "#### the diagram states that the More length,the high will be rating"
   ]
  },
  {
   "cell_type": "code",
   "execution_count": 8,
   "id": "6075000f-2fcd-49e1-b119-8b3f2687f954",
   "metadata": {},
   "outputs": [
    {
     "data": {
      "text/plain": [
       "<Axes: xlabel='stars', ylabel='count'>"
      ]
     },
     "execution_count": 8,
     "metadata": {},
     "output_type": "execute_result"
    },
    {
     "data": {
      "image/png": "[encoded data removed]",
      "text/plain": [
       "<Figure size 640x480 with 1 Axes>"
      ]
     },
     "metadata": {},
     "output_type": "display_data"
    }
   ],
   "source": [
    "sns.countplot(x='stars', data=reviews)"
   ]
  },
  {
   "cell_type": "markdown",
   "id": "99252f40-0fbb-4c33-a1f4-13815fa3ab51",
   "metadata": {},
   "source": [
    "#### Highest number of reviews are the 4-star reviews following by 5-star reviews."
   ]
  },
  {
   "cell_type": "markdown",
   "id": "a680ea75-f333-4ec4-a8d1-80dd9612045a",
   "metadata": {},
   "source": [
    "------------------------"
   ]
  },
  {
   "cell_type": "markdown",
   "id": "d5ac14f4-859c-4420-bd22-96698852f5b2",
   "metadata": {},
   "source": [
    "#### As this is review classification based on stars,so text and stars columns are useful only"
   ]
  },
  {
   "cell_type": "code",
   "execution_count": 9,
   "id": "bf5d1cf9-ff14-432f-b85c-715703c45947",
   "metadata": {},
   "outputs": [],
   "source": [
    "classes = reviews[(reviews['stars'] == 1) | (reviews['stars'] == 5)]\n",
    "x = classes['text']\n",
    "y = classes['stars']"
   ]
  },
  {
   "cell_type": "markdown",
   "id": "e57e3a53-918b-4c28-89e8-ff96db839ea3",
   "metadata": {},
   "source": [
    "### Text Processing to remove stop words and punctuations"
   ]
  },
  {
   "cell_type": "code",
   "execution_count": 10,
   "id": "00764b06-79bb-4a54-9589-ff1168a79118",
   "metadata": {},
   "outputs": [],
   "source": [
    "import string\n",
    "from nltk.corpus import stopwords\n",
    "\n",
    "def text_processing(review):\n",
    "    nopunc = [char for char in review if char not in string.punctuation]\n",
    "    nopunc = ''.join(nopunc)\n",
    "    clean_review = [word for word in review.split() if word.lower() not in stopwords.words('english')]\n",
    "    \n",
    "    return clean_review"
   ]
  },
  {
   "cell_type": "code",
   "execution_count": 11,
   "id": "de82133a-65be-4577-b09d-b0e865f22e4f",
   "metadata": {},
   "outputs": [
    {
     "data": {
      "text/plain": [
       "0       [wife, took, birthday, breakfast, excellent., ...\n",
       "1       [idea, people, give, bad, reviews, place., goe...\n",
       "3       [Rosie,, Dakota,, LOVE, Chaparral, Dog, Park!!...\n",
       "4       [General, Manager, Scott, Petello, good, egg!!...\n",
       "6       [Drop, drive, here., ate, go, back, next, day,...\n",
       "                              ...                        \n",
       "9990    [Yes, rock, hipster, joints., dig, place., lit...\n",
       "9991    [4, stars?, (A, notes:, folks, rated, place, l...\n",
       "9992    [I'm, normally, one, jump, reviewing, chain, r...\n",
       "9994    [Let's, see...what, like, Surprise, Stadium?, ...\n",
       "9999    [4-5, locations.., 4.5, star, average.., think...\n",
       "Name: text, Length: 4086, dtype: object"
      ]
     },
     "execution_count": 11,
     "metadata": {},
     "output_type": "execute_result"
    }
   ],
   "source": [
    "classes['text'].apply(text_processing)"
   ]
  },
  {
   "cell_type": "markdown",
   "id": "99c68ebc-a429-49e1-8130-9f910e9a02f3",
   "metadata": {},
   "source": [
    "### splitting into train and test data"
   ]
  },
  {
   "cell_type": "code",
   "execution_count": 12,
   "id": "4946c4eb-f30a-4d73-b935-c0e318da9a34",
   "metadata": {},
   "outputs": [],
   "source": [
    "from sklearn.model_selection import train_test_split"
   ]
  },
  {
   "cell_type": "code",
   "execution_count": 13,
   "id": "2bfe743e-1679-4135-b8f0-6013d1d37ff5",
   "metadata": {},
   "outputs": [],
   "source": [
    "x_train, x_test, y_train, y_test = train_test_split(x, y, test_size = 0.3, random_state = 42)"
   ]
  },
  {
   "cell_type": "code",
   "execution_count": 14,
   "id": "7ae673d3-1874-4250-a6b3-0b993830c0ff",
   "metadata": {},
   "outputs": [
    {
     "name": "stdout",
     "output_type": "stream",
     "text": [
      "(4086,)\n",
      "(2860,)\n",
      "(1226,)\n"
     ]
    }
   ],
   "source": [
    "print(x.shape)\n",
    "print(x_train.shape)\n",
    "print(x_test.shape)"
   ]
  },
  {
   "cell_type": "code",
   "execution_count": 15,
   "id": "9efb6922-86f8-4ded-9c81-1b442bcf20a1",
   "metadata": {},
   "outputs": [
    {
     "name": "stdout",
     "output_type": "stream",
     "text": [
      "(4086,)\n",
      "(2860,)\n",
      "(1226,)\n"
     ]
    }
   ],
   "source": [
    "print(y.shape)\n",
    "print(y_train.shape)\n",
    "print(y_test.shape)"
   ]
  },
  {
   "cell_type": "markdown",
   "id": "fb8c4eda-0aba-4e2e-ae9c-ac220a19ca6a",
   "metadata": {},
   "source": [
    "### Vectorization"
   ]
  },
  {
   "cell_type": "code",
   "execution_count": 16,
   "id": "d960e20f-dc82-4d4d-aedc-81642bd82f44",
   "metadata": {},
   "outputs": [],
   "source": [
    "vectorizer = TfidfVectorizer()"
   ]
  },
  {
   "cell_type": "code",
   "execution_count": 17,
   "id": "426e5ded-c707-4db9-9e74-be120fe7fb61",
   "metadata": {},
   "outputs": [],
   "source": [
    "new_x_train = vectorizer.fit_transform(x_train)\n",
    "new_x_test = vectorizer.transform(x_test)"
   ]
  },
  {
   "cell_type": "code",
   "execution_count": 18,
   "id": "af3c27f3-2179-468a-8426-46a7e31b6286",
   "metadata": {},
   "outputs": [
    {
     "name": "stdout",
     "output_type": "stream",
     "text": [
      "  (0, 5332)\t0.1833334663422568\n",
      "  (0, 5668)\t0.20322432953667213\n",
      "  (0, 696)\t0.10708097393492826\n",
      "  (0, 14525)\t0.06833310707442071\n",
      "  (0, 4393)\t0.16118217844775795\n",
      "  (0, 14914)\t0.14313892745502305\n",
      "  (0, 6782)\t0.06746780194590937\n",
      "  (0, 15688)\t0.08469007140483381\n",
      "  (0, 14642)\t0.09268680470928307\n",
      "  (0, 5149)\t0.12243872404076495\n",
      "  (0, 8630)\t0.09937891344901742\n",
      "  (0, 7936)\t0.08784734057759222\n",
      "  (0, 1119)\t0.07699638481856348\n",
      "  (0, 1221)\t0.21182922400368934\n",
      "  (0, 14681)\t0.048886251842445286\n",
      "  (0, 850)\t0.1469770023591021\n",
      "  (0, 14517)\t0.08273438854078836\n",
      "  (0, 7292)\t0.08518360183986279\n",
      "  (0, 8095)\t0.11936123358287248\n",
      "  (0, 4528)\t0.1064487934295933\n",
      "  (0, 11648)\t0.10271646790274788\n",
      "  (0, 11705)\t0.12944571149370543\n",
      "  (0, 6944)\t0.15099014033179087\n",
      "  (0, 8044)\t0.22807211963621674\n",
      "  (0, 959)\t0.14822509480735688\n",
      "  :\t:\n",
      "  (2859, 5146)\t0.1285109346064022\n",
      "  (2859, 842)\t0.13445783013541415\n",
      "  (2859, 13608)\t0.12359866229452145\n",
      "  (2859, 9675)\t0.13784744443074673\n",
      "  (2859, 4089)\t0.1297751351012544\n",
      "  (2859, 9941)\t0.13267182447654088\n",
      "  (2859, 11997)\t0.1301265692477549\n",
      "  (2859, 1044)\t0.09389412828065795\n",
      "  (2859, 1479)\t0.0881519933492575\n",
      "  (2859, 15364)\t0.11439175493281442\n",
      "  (2859, 1610)\t0.11022305689973054\n",
      "  (2859, 12077)\t0.24307720673516636\n",
      "  (2859, 15636)\t0.1448644718976541\n",
      "  (2859, 6627)\t0.08407616882529807\n",
      "  (2859, 1271)\t0.10779436876528592\n",
      "  (2859, 6455)\t0.17423394125558736\n",
      "  (2859, 15741)\t0.09876337679542814\n",
      "  (2859, 1119)\t0.08455467755061317\n",
      "  (2859, 14681)\t0.05368513432074083\n",
      "  (2859, 14493)\t0.18808809623746828\n",
      "  (2859, 772)\t0.23660299034522544\n",
      "  (2859, 6902)\t0.09409459053245103\n",
      "  (2859, 7711)\t0.06040046311012702\n",
      "  (2859, 10826)\t0.08090673304129047\n",
      "  (2859, 14551)\t0.06529770557200239\n"
     ]
    }
   ],
   "source": [
    "print(new_x_train)"
   ]
  },
  {
   "cell_type": "markdown",
   "id": "63539edb-cce7-4e7d-9414-7c1ddf33751e",
   "metadata": {},
   "source": [
    "### Training the Model"
   ]
  },
  {
   "cell_type": "code",
   "execution_count": 44,
   "id": "71f35090-35aa-4c88-9c47-2c4d818ab0d3",
   "metadata": {},
   "outputs": [],
   "source": [
    "from sklearn.tree import DecisionTreeClassifier\n",
    "from sklearn.ensemble import RandomForestClassifier\n",
    "from sklearn.neighbors import KNeighborsClassifier\n",
    "\n",
    "# model = KNeighborsClassifier()\n",
    "model = RandomForestClassifier()\n",
    "# model = MultinomialNB()\n",
    "# model = DecisionTreeClassifier()"
   ]
  },
  {
   "cell_type": "code",
   "execution_count": 45,
   "id": "ee951d10-8a8c-4449-922c-aa56dd7b320d",
   "metadata": {},
   "outputs": [],
   "source": [
    "model = model.fit(new_x_train, y_train)"
   ]
  },
  {
   "cell_type": "markdown",
   "id": "6177995c-9102-4278-886e-78d201cf3e10",
   "metadata": {},
   "source": [
    "### predictions on test data"
   ]
  },
  {
   "cell_type": "code",
   "execution_count": 46,
   "id": "30dfcc23-ff81-4554-8dd3-30b56b6e712e",
   "metadata": {},
   "outputs": [],
   "source": [
    "y_pred = model.predict(new_x_test)"
   ]
  },
  {
   "cell_type": "code",
   "execution_count": 47,
   "id": "869bc63f-1e6c-4275-9509-c0575b45853c",
   "metadata": {},
   "outputs": [
    {
     "data": {
      "text/plain": [
       "array([5, 5, 5, ..., 5, 5, 5], dtype=int64)"
      ]
     },
     "execution_count": 47,
     "metadata": {},
     "output_type": "execute_result"
    }
   ],
   "source": [
    "y_pred"
   ]
  },
  {
   "cell_type": "markdown",
   "id": "79ce7fa3-7889-44c6-afb0-2289362db67c",
   "metadata": {},
   "source": [
    "### Accuracy"
   ]
  },
  {
   "cell_type": "code",
   "execution_count": 52,
   "id": "54c7506c-5082-4881-abe0-42ba5344e8fb",
   "metadata": {},
   "outputs": [
    {
     "name": "stdout",
     "output_type": "stream",
     "text": [
      "Accuracy :  0.8393148450244698\n"
     ]
    }
   ],
   "source": [
    "print('Accuracy : ', accuracy_score(y_test, y_pred))"
   ]
  },
  {
   "cell_type": "markdown",
   "id": "9c3bd58c-0f07-4179-bc51-298f4ba32902",
   "metadata": {},
   "source": [
    "### Testing the model on a sample review"
   ]
  },
  {
   "cell_type": "code",
   "execution_count": 65,
   "id": "64865531-7a3b-4028-87dd-b49dd8a16b5d",
   "metadata": {},
   "outputs": [],
   "source": [
    "review = [\"DESCRIPTION. The Children's Communication Checklist-Second Edition, United States Edition (CCC-2) is intended for use with children between the ages of 4 years and 16 years, 11 months who have normal hearing, speak in sentences, and use English as their primary language. As a caregiver-completed checklist, the CCC-2 provides a source of pre-assessment information for a child scheduled to be evaluated by a speech-language pathologist (SLP), educational diagnostician, or psychologist for speech and language concerns. In particular, the CCC-2 includes content addressing pragmatics-an aspect of language that is infrequently addressed in most language measures, but is critical for the diagnosis of autism spectrum disorders (ASD). The purposes of the CCC-2 are the identification of pragmatic language impairment, screening of receptive and expressive language skills, and assistance in screening for ASD. In addition to general knowledge of standardized test use, test users should become familiar with the CCC-2 and practice its administration, scoring, and interpretation prior to clinical use. If the child's caregiver is considered unable to provide valid responses, an alternative individual (e.g., a teacher) who has at least 3 months of regular contact with the child is enlisted. Alternatively, the checklist can be given as a guided interview. One potentially confusing feature of checklist completion is that the direction of the 4-point scale used by caregivers is reversed for checklist items reflecting difficulties versus those reflecting strengths. Although this design is clearly stated and intentional on the part of the test publishers, test users will want to insure respondents' compliance with this change in scoring from one section to the next. Specifically, the same scale, 0-3, is used for difficulties and strengths, but a 0 for a difficulty indicates an absence of the difficulty, whereas a 0 for a strength indicates an absence fo the strength. The checklist takes about 10 to 15 minutes to complete. Once completed, the CCC-2 can be scored using a scoring CD in about 5 minutes or a scoring worksheet in about 15 minutes. Both methods result in (a) derived scaled scores and percentile ranks for each scale; (b) a General Communication Composite (GCC) normalized standard score, confidence interval and percentile rank, reflecting the child's performance on the first 8 scales; and (c) the Social Interaction Difference Index (SIDI). The SIDI is intended for descriptive use and is the sum of performances on the scales E, H, I, and J (scales assessing language and nonlanguage features associated with autism) minus the sum of performances on scales A-D (scales associated with knowledge of language structures). Guidelines for administration, scoring, and interpretation are clearly stated in the test manual.DEVELOPMENT. The United States Edition of the CCC-2 is an adaptation of the CCC-2 (Bishop, 2003), which was developed in the United Kingdom. In addition to making changes in spelling and phrasing, the test developers also made minor additions to rating scale descriptors prior to U.S. standardization. The first predecessors to the British version of the CCC-2 (Bishop, 2003) had been developed to identify patterns of language difficulties (especially pragmatic) in children with diagnosed language impairment. These earlier versions first used respondents who were teachers and speech-languages professionals, later shifting to the use of familiar adults as respondents. The British edition of the CCC-2 was modified so that it could be used in diagnosis and has been the focus of ongoing validity studies by a variety of researchers. The CCC-2, United States Edition, is composed of 70 items within ten 7-item scales (A. Speech, B. Syntax, C. Semantics, D. Coherence, E. Initiation, F. Scripted Language, G. Context, H. Nonverbal Communication, I. Social Relations, and J. Interests). Within each scale, 5 items relate to communication difficulties and 2 to strengths. The checklist is structured so that all communication difficulties are evaluated first, then strengths are evaluated. The first four scales (A-D) address aspects of language frequently affected in specific language impairments. The second four scales (E-H) address aspects affected in pragmatic impairments (which can occur independently or along with other language impairments). The last two scales (I-J) address nonlanguage behaviors often associated with autism spectrum disorder (ASD). Findings on the last two sets of scales (Scales E through J) are used as a basis for recommending further assessment for ASD. TECHNICAL. Standardization The development of norms and selected technical studies for the current edition were conducted on a sample of 950 U.S. children. Sample sizes by age were 100 children for each year between 4 years and 9 years, 11 months; 100 children for each 2-year period between 10 years and 13 years, 11 months; and 150 children for the period from 14 years to 16 years, 11 months. These samples are well matched to U.S. Census data from 2002 for race/ethnicity, geographic region, and parent education level. Twenty-seven percent of these children were receiving special services (including 7% for gifted and talented/advanced placement). Although the sample as a whole was evenly divided between boys and girls, scaled scores were not reported by gender for each age group. Normative data were presented at 3-month intervals for ages 4 years to 6 years, 11 months; at 6-month intervals for 7 to 7 years, 11 months; and at 12-month intervals for subsequent ageReliabilityReliability studies examined test-retest reliability and internal consistency. Test-retest reliability was examined for 98 children from the standardization sample in three age groups (4 years to 6 years, 11 months; 7 years to 9 years, 11 months; and 10 years to 16 years, 11 months) composed of at least 30 children each and retested over intervals from 1 to 28 days. Results were good for the youngest age group (r = .86) and excellent for the older two groups (r = .96 and .93, respectively). Coefficient alpha data based on the U.S. standardization data suggest appropriately strong internal consistency for each of the component scales. ValidityChildren with specific-language impairment (SLI) (n = 54), autistic/spectrum disorder (ASD) (n = 62) and pragmatic language impairment (n = 46) were studied to provide validity evidence. As was required for the standardization sample, children in these groups were required to have normal hearing, to have English as their primary language and to speak in sentences. Because many children with ASD do not develop this level of spoken language, the children studied for the CCC-2 seem likely to be more representative of individuals with ASD who are relatively high functioning. The test manual describes three studies examining the construct validity of the CCC-2 and, in particular, its ability to distinguish among clinical samples. First, the test developer compared each clinical group against a matched sample from the standardization data. Multiple t-tests showed significant differences between each clinical group and its matched group on individual scales and on the GCC overall. In a second study, because the SIDI reflects the individual's relative functioning on language structure versus pragmatics, the author predicted differing outcomes across the three groups as well as when each group was compared with a matched control group taken from the standardization sample. Results appeared consistent with predictions. In the third study, the test developer reports the diagnostic accuracy of the GCC in the form of sensitivity and specificity for each group at three criterion levels (1, 1.5, and 2 SD below the mean of the matched samples), as well as the Positive Predictive Power (PPP) and Negative Predictive Power (NPP) for these criterion levels at five different base rates. Although not widely reported for children's language tests, such measures of diagnostic accuracy are increasingly called for and represent a level of detail that can help clinicians assess the likely utility of these measures within their own context (Dollaghan, 2007). Except at the lowest base rate, these data generally suggest that the CCC-2 can prove quite helpful in identifying children who have the clinical conditions for which the test was developed. COMMENTARY Weaknesses in the current evidence base supporting use of the CCC-2 for its intended purposes include a need for interexaminer reliability evidence and a more thorough description of its content relevance and coverage. Nonetheless, evidence concerning test-retest reliability and diagnostic validity is strong, particularly in comparison to competing measures-few of which attempt to address language use (pragmatics) as well as language structure. The minimal time demands this instrument places on respondents and test users is another very attractive feature.SUMMARY: The intended purposes of the CCC-2 are screening for ASD and SLI, as well as the identification of pragmatic impairments in children between 4 and 16 years, 11 months. Given evidence supporting it thus far, clinicians who have access to caregivers or other familiar adults to serve as respondents will probably find this a useful addition to their testing protocol. Although it is not suited to children who are lower functioning (i.e., do not speak in sentences), its efficiency, the clarity of its manual, and its focus on both language structure and use (pragmatics) represent considerable strengths. Because the CCC-2 is the product of a long history of research by the test author and other, independent researchers, it seems likely that additional support related to reliability and further validity evidence may be forthcoming.\"]"
   ]
  },
  {
   "cell_type": "code",
   "execution_count": 66,
   "id": "785056fc-ef76-400f-8d19-dc4a7916a193",
   "metadata": {},
   "outputs": [],
   "source": [
    "vector = vectorizer.transform(review)"
   ]
  },
  {
   "cell_type": "code",
   "execution_count": 67,
   "id": "dd8e1dd6-39c5-457c-a4f1-8f9987f0569c",
   "metadata": {},
   "outputs": [],
   "source": [
    "result = int(model.predict(vector))"
   ]
  },
  {
   "cell_type": "code",
   "execution_count": 68,
   "id": "6e1ff7ca-e514-427b-91a4-9cb47235c85f",
   "metadata": {},
   "outputs": [
    {
     "name": "stdout",
     "output_type": "stream",
     "text": [
      " The review is classified as 5-star review\n"
     ]
    }
   ],
   "source": [
    "print(f\" The review is classified as {result}-star review\")"
   ]
  },
  {
   "cell_type": "code",
   "execution_count": null,
   "id": "1c17ccf1-63b4-4b26-b688-25f95381c97f",
   "metadata": {},
   "outputs": [],
   "source": []
  }
 ],
 "metadata": {
  "kernelspec": {
   "display_name": "Python 3",
   "language": "python",
   "name": "python3"
  },
  "language_info": {
   "codemirror_mode": {
    "name": "ipython",
    "version": 3
   },
   "file_extension": ".py",
   "mimetype": "text/x-python",
   "name": "python",
   "nbconvert_exporter": "python",
   "pygments_lexer": "ipython3",
   "version": "3.10.9"
  }
 },
 "nbformat": 4,
 "nbformat_minor": 5
}
